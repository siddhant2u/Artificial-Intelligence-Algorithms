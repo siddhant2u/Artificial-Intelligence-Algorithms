{
  "metadata": {
    "language_info": {
      "codemirror_mode": {
        "name": "python",
        "version": 3
      },
      "file_extension": ".py",
      "mimetype": "text/x-python",
      "name": "python",
      "nbconvert_exporter": "python",
      "pygments_lexer": "ipython3",
      "version": "3.8"
    },
    "kernelspec": {
      "name": "python",
      "display_name": "Pyolite",
      "language": "python"
    }
  },
  "nbformat_minor": 4,
  "nbformat": 4,
  "cells": [
    {
      "cell_type": "code",
      "source": "# class to represent a graph object\nclass Graph:\n\n    # Constructor\n    def __init__(self, edges, N):\n        \n        self.adj = [[] for _ in range(N)]\n\n        # add edges to the undirected graph\n        for (src, dest) in edges:\n            self.adj[src].append(dest)\n            self.adj[dest].append(src)\n\n\n# Function to assign colors to vertices of graph\ndef colorGraph(graph):\n\n    # stores color assigned to each vertex\n    result = {}\n\n    # assign color to vertex one by one\n    for u in range(N):\n\n        # set to store color of adjacent vertices of u\n        # check colors of adjacent vertices of u and store in set\n        assigned = set([result.get(i) for i in graph.adj[u] if i in result])\n\n        # check for first free color\n        color = 1\n        for c in assigned:\n            if color != c:\n                break\n            color = color + 1\n\n        # assigns vertex u the first available color\n        result[u] = color\n\n    for v in range(N):\n        print(\"Color assigned to vertex\", v, \"is\", colors[result[v]])\n\n\n\n# Greedy coloring of graph\n\n\n    # Add more colors for graphs with many more vertices\ncolors = [ \"\",\"BLUE\",\"GREEN\",\"RED\",\"YELLOW\",\"ORANGE\",\"PINK\",\"BLACK\",\"BROWN\",\"WHITE\",\n          \"PURPLE\",\"VIOLET\"]\n\n    #  of graph edges as per above diagram\nedges = [(0, 1), (0, 4), (0, 5), (4, 5), (1, 4), (1, 3), (2, 3), (2, 4)]\n\n    # Set number of vertices in the graph\nN = 6\n    # create a graph from edges\ngraph = Graph(edges, N)\n    # color graph using greedy algorithm\ncolorGraph(graph)",
      "metadata": {
        "trusted": true
      },
      "execution_count": 7,
      "outputs": [
        {
          "name": "stdout",
          "text": "Color assigned to vertex 0 is BLUE\nColor assigned to vertex 1 is GREEN\nColor assigned to vertex 2 is BLUE\nColor assigned to vertex 3 is RED\nColor assigned to vertex 4 is RED\nColor assigned to vertex 5 is GREEN\n",
          "output_type": "stream"
        }
      ]
    },
    {
      "cell_type": "markdown",
      "source": "Other Method",
      "metadata": {}
    },
    {
      "cell_type": "code",
      "source": "colors = ['Red', 'Blue', 'Green']\n\nstates = ['Andhra', 'Karnataka', 'TamilNadu', 'Kerala']\n\nneighbors = {}\nneighbors['Andhra'] = ['Karnataka', 'TamilNadu']\nneighbors['Karnataka'] = ['Andhra', 'TamilNadu', 'Kerala']\nneighbors['TamilNadu'] = ['Andhra', 'Karnataka', 'Kerala']\nneighbors['Kerala'] = ['Karnataka', 'TamilNadu']\nneighbors['Delhi'] = ['TamilNadu', 'Kerala']\n\n\ncolors_of_states = {}\n\ndef promising(state, color):\n    for neighbor in neighbors.get(state): \n        color_of_neighbor = colors_of_states.get(neighbor)\n        if color_of_neighbor == color:\n            return False\n\n    return True\n\ndef get_color_for_state(state):\n    for color in colors:\n        if promising(state, color):\n            return color\n\ndef main():\n    for state in states:\n        colors_of_states[state] = get_color_for_state(state)\n\n    print(colors_of_states)\n\n\nmain()",
      "metadata": {
        "trusted": true
      },
      "execution_count": 8,
      "outputs": [
        {
          "name": "stdout",
          "text": "{'Andhra': 'Red', 'Karnataka': 'Blue', 'TamilNadu': 'Green', 'Kerala': 'Red'}\n",
          "output_type": "stream"
        }
      ]
    },
    {
      "cell_type": "code",
      "source": "",
      "metadata": {},
      "execution_count": null,
      "outputs": []
    }
  ]
}