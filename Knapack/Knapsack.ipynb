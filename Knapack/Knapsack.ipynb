{
  "metadata": {
    "language_info": {
      "codemirror_mode": {
        "name": "python",
        "version": 3
      },
      "file_extension": ".py",
      "mimetype": "text/x-python",
      "name": "python",
      "nbconvert_exporter": "python",
      "pygments_lexer": "ipython3",
      "version": "3.8"
    },
    "kernelspec": {
      "name": "python",
      "display_name": "Pyolite",
      "language": "python"
    }
  },
  "nbformat_minor": 4,
  "nbformat": 4,
  "cells": [
    {
      "cell_type": "markdown",
      "source": "Method 1: Recursion by Brute-Force algorithm OR Exhaustive Search",
      "metadata": {}
    },
    {
      "cell_type": "code",
      "source": "# A naive recursive implementation\n# of 0-1 Knapsack Problem\n \n# Returns the maximum value that\n# can be put in a knapsack of\n# capacity W\n \n \ndef knapSack(W, wt, val, n):\n \n    # Base Case\n    if n == 0 or W == 0:\n        return 0\n \n    # If weight of the nth item is\n    # more than Knapsack of capacity W,\n    # then this item cannot be included\n    # in the optimal solution\n    if (wt[n-1] > W):\n        return knapSack(W, wt, val, n-1)\n \n    # return the maximum of two cases:\n    # (1) nth item included\n    # (2) not included\n    else:\n        return max(\n            val[n-1] + knapSack(\n                W-wt[n-1], wt, val, n-1),\n            knapSack(W, wt, val, n-1))\n \n# end of function knapSack\n \n \n#Driver Code\nval = [60, 100, 120]\nwt = [10, 20, 30]\nW = 50\nn = len(val)\nprint knapSack(W, wt, val, n)",
      "metadata": {},
      "execution_count": null,
      "outputs": []
    },
    {
      "cell_type": "markdown",
      "source": "Complexity Analysis: \n\nTime Complexity: O(2n). \nAs there are redundant subproblems.\nAuxiliary Space :O(1). \nAs no extra data structure has been used for storing values.",
      "metadata": {}
    },
    {
      "cell_type": "code",
      "source": "Method 2: Dynamic programming Approach",
      "metadata": {},
      "execution_count": null,
      "outputs": []
    },
    {
      "cell_type": "code",
      "source": "# A Dynamic Programming based Python\n# Program for 0-1 Knapsack problem\n# Returns the maximum value that can\n# be put in a knapsack of capacity W\n\ndef knapSack(W, wt, val, n):\n \n    K = [[0 for x in range(W+1)] for y in range(2)]\n     \n    # We know we are always using the  current row or\n    # the previous row of the array/vector . Thereby we can\n    # improve it further by using a 2D array but with only\n    # 2 rows i%2 will be giving the index inside the bounds\n    # of 2d array K\n    for i in range(n + 1):\n        for w in range(W + 1):\n            if (i == 0 or w == 0):\n                K[i % 2][w] = 0\n            elif (wt[i - 1] <= w):\n                K[i % 2][w] = max(\n                    val[i - 1]\n                    + K[(i - 1) % 2][w - wt[i - 1]],\n                    K[(i - 1) % 2][w])\n \n            else:\n                K[i % 2][w] = K[(i - 1) % 2][w]\n \n    return K[n % 2][W]\n \n# Driver Code\nif __name__ == \"__main__\":\n \n    val = [60, 100, 120]\n    wt = [10, 20, 30]\n    W = 50\n    n = len(val)\n \n    print(knapSack(W, wt, val, n))",
      "metadata": {},
      "execution_count": null,
      "outputs": []
    },
    {
      "cell_type": "markdown",
      "source": "Complexity Analysis:\n\nTime Complexity: O(N*W).\nAuxiliary Space: O(2*W) \nAs we are using a 2-D array but with only 2 rows.",
      "metadata": {}
    },
    {
      "cell_type": "markdown",
      "source": "Method 3: Memoization Technique",
      "metadata": {}
    },
    {
      "cell_type": "code",
      "source": "# This is the memoization approach of\n# 0 / 1 Knapsack in Python in simple\n# we can say recursion + memoization = DP\n \n# driver code\nval = [60, 100, 120 ]\nwt = [10, 20, 30 ]\nW = 50\nn = len(val)\n \n# We initialize the matrix with -1 at first.\nt = [[-1 for i in range(W + 1)] for j in range(n + 1)]\n \n \ndef knapsack(wt, val, W, n):\n \n    # base conditions\n    if n == 0 or W == 0:\n        return 0\n    if t[n][W] != -1:\n        return t[n][W]\n \n    # choice diagram code\n    if wt[n-1] <= W:\n        t[n][W] = max(\n            val[n-1] + knapsack(\n                wt, val, W-wt[n-1], n-1),\n            knapsack(wt, val, W, n-1))\n        return t[n][W]\n    elif wt[n-1] > W:\n        t[n][W] = knapsack(wt, val, W, n-1)\n        return t[n][W]\n \n \nprint(knapsack(wt, val, W, n))",
      "metadata": {},
      "execution_count": null,
      "outputs": []
    },
    {
      "cell_type": "markdown",
      "source": "Complexity Analysis: \n\nTime Complexity: O(N*W). \nAs redundant calculations of states are avoided.\nAuxiliary Space: O(N*W). \nThe use of 2D array data structure for storing intermediate states-:",
      "metadata": {}
    },
    {
      "cell_type": "markdown",
      "source": "Method 4: Again we use the dynamic programming approach with even more optimized space complexity .",
      "metadata": {}
    },
    {
      "cell_type": "code",
      "source": "",
      "metadata": {},
      "execution_count": null,
      "outputs": []
    }
  ]
}