{
  "metadata": {
    "language_info": {
      "name": ""
    },
    "kernelspec": {
      "name": "",
      "display_name": ""
    }
  },
  "nbformat_minor": 4,
  "nbformat": 4,
  "cells": [
    {
      "cell_type": "code",
      "source": "total=int(input('Enter no. of bananas at starting: '))\ndistance=int(input('Enter distance you want to cover: '))\nload_capacity=int(input('Enter max load capacity of your camel: '))\nlose=0\nstart=total\nfor i in range(distance):\n    while start>0:\n        start=start-load_capacity\n\n        if start==1:\n            lose=lose-1\n        lose=lose+2\n\n    lose=lose-1\n    start=total-lose\n    if start==0:\n        break\nprint(start)",
      "metadata": {},
      "execution_count": null,
      "outputs": []
    }
  ]
}